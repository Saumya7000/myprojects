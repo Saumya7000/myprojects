{
 "cells": [
  {
   "cell_type": "code",
   "execution_count": 2,
   "id": "f106aaef",
   "metadata": {},
   "outputs": [],
   "source": [
    "import numpy as np\n",
    "import pandas as pd\n",
    "from matplotlib import pyplot as plt\n",
    "import tensorflow as tf\n",
    "from PIL import Image\n",
    "import os \n",
    "from sklearn.model_selection import train_test_split"
   ]
  },
  {
   "cell_type": "code",
   "execution_count": 3,
   "id": "6bc7ffd3",
   "metadata": {},
   "outputs": [],
   "source": [
    "from keras.utils import to_categorical\n",
    "from tensorflow.keras.models import Sequential"
   ]
  },
  {
   "cell_type": "code",
   "execution_count": 3,
   "id": "e04be056",
   "metadata": {},
   "outputs": [],
   "source": [
    "data = []\n",
    "labels = []\n",
    "classes = 43\n",
    "cur_path = os.getcwd()\n",
    "for i in range(classes):\n",
    "    path = os.path.join('archive', 'Train', str(i))\n",
    "    images = os.listdir(path)\n",
    "    \n",
    "    for a in images:\n",
    "      try: \n",
    "        image = Image.open(path + '\\\\' + a)\n",
    "        image = image.resize((30, 30))\n",
    "        image = np.array(image)\n",
    "        data.append(image)\n",
    "        labels.append(i)\n",
    "      except : \n",
    "        print(\"Error loading image\")\n",
    "\n",
    "data = np.array(data)\n",
    "labels = np.array(labels)"
   ]
  },
  {
   "cell_type": "code",
   "execution_count": 4,
   "id": "37457c8d",
   "metadata": {},
   "outputs": [
    {
     "data": {
      "text/plain": [
       "(39209,)"
      ]
     },
     "execution_count": 4,
     "metadata": {},
     "output_type": "execute_result"
    }
   ],
   "source": [
    "labels.shape"
   ]
  },
  {
   "cell_type": "code",
   "execution_count": 5,
   "id": "194fd55f",
   "metadata": {},
   "outputs": [
    {
     "data": {
      "text/plain": [
       "(39209, 30, 30, 3)"
      ]
     },
     "execution_count": 5,
     "metadata": {},
     "output_type": "execute_result"
    }
   ],
   "source": [
    "data.shape"
   ]
  },
  {
   "cell_type": "code",
   "execution_count": 6,
   "id": "6def5a85",
   "metadata": {},
   "outputs": [],
   "source": [
    "x_train, x_test, y_train, y_test = train_test_split(data, labels, test_size=0.2, random_state = 42)"
   ]
  },
  {
   "cell_type": "code",
   "execution_count": 7,
   "id": "4f07a8ad",
   "metadata": {},
   "outputs": [
    {
     "name": "stdout",
     "output_type": "stream",
     "text": [
      "(31367, 30, 30, 3) (7842, 30, 30, 3) (31367,) (7842,)\n"
     ]
    }
   ],
   "source": [
    "print(x_train.shape, x_test.shape, y_train.shape, y_test.shape)\n"
   ]
  },
  {
   "cell_type": "code",
   "execution_count": 8,
   "id": "c6b1748d",
   "metadata": {},
   "outputs": [],
   "source": [
    "import cv2\n",
    "# converting the RGB to Gray scale \n",
    "def grayscale(img):\n",
    "    img = cv2.cvtColor(img, cv2.COLOR_BGR2GRAY)\n",
    "    return img\n",
    "#eqaulize the intensity of the image\n",
    "def equalize(img):\n",
    "    img = cv2.equalizeHist(img)\n",
    "    return img\n",
    "def preprocessing(img):\n",
    "    img = grayscale(img)\n",
    "    img = equalize(img)\n",
    "    img = img/255\n",
    "    return img"
   ]
  },
  {
   "cell_type": "code",
   "execution_count": 9,
   "id": "36b0883e",
   "metadata": {},
   "outputs": [],
   "source": [
    "x_train = np.array(list(map(preprocessing, x_train)))"
   ]
  },
  {
   "cell_type": "code",
   "execution_count": 10,
   "id": "d9991ebb",
   "metadata": {},
   "outputs": [
    {
     "data": {
      "text/plain": [
       "(31367, 30, 30)"
      ]
     },
     "execution_count": 10,
     "metadata": {},
     "output_type": "execute_result"
    }
   ],
   "source": [
    "x_train.shape"
   ]
  },
  {
   "cell_type": "code",
   "execution_count": 11,
   "id": "be7a469d",
   "metadata": {},
   "outputs": [],
   "source": [
    "x_test = np.array(list(map(preprocessing, x_test)))"
   ]
  },
  {
   "cell_type": "code",
   "execution_count": 12,
   "id": "68104ae9",
   "metadata": {},
   "outputs": [],
   "source": [
    "x_train = x_train.reshape(x_train.shape[0], x_train.shape[1], x_train.shape[2], 1)\n",
    "x_test = x_test.reshape(x_test.shape[0], x_test.shape[1], x_test.shape[2], 1)"
   ]
  },
  {
   "cell_type": "code",
   "execution_count": 13,
   "id": "c585d840",
   "metadata": {},
   "outputs": [],
   "source": [
    "from keras.preprocessing.image import ImageDataGenerator"
   ]
  },
  {
   "cell_type": "code",
   "execution_count": 14,
   "id": "88e003fe",
   "metadata": {},
   "outputs": [],
   "source": [
    "#applies data augemenation on the dataset \n",
    "dataGen = ImageDataGenerator(width_shift_range = 0.1,\n",
    "                            height_shift_range = 0.1,\n",
    "                            zoom_range = 0.2,\n",
    "                            shear_range = 0.1,\n",
    "                            rotation_range = 10)"
   ]
  },
  {
   "cell_type": "code",
   "execution_count": 15,
   "id": "2bc6c740",
   "metadata": {},
   "outputs": [],
   "source": [
    "dataGen.fit(x_train)"
   ]
  },
  {
   "cell_type": "code",
   "execution_count": 16,
   "id": "e28ce1db",
   "metadata": {},
   "outputs": [],
   "source": [
    "batches = dataGen.flow(x_train, y_train, batch_size = 20)\n",
    "x_batch, y_batch = next(batches)"
   ]
  },
  {
   "cell_type": "code",
   "execution_count": 17,
   "id": "8a4aadce",
   "metadata": {},
   "outputs": [],
   "source": [
    "y_train = to_categorical(y_train, 43)\n",
    "y_test = to_categorical(y_test, 43)"
   ]
  },
  {
   "cell_type": "code",
   "execution_count": 18,
   "id": "f8c8c6e9",
   "metadata": {},
   "outputs": [],
   "source": [
    "imageDimension = (30,30,3)\n",
    "def myModel():\n",
    "    model = Sequential()\n",
    "    model.add(tf.keras.layers.Conv2D(60, (5,5), input_shape =(imageDimension[0], imageDimension[1], 1), activation = 'relu'))\n",
    "    model.add((tf.keras.layers.Conv2D(60, (5,5), activation = 'relu')))\n",
    "    model.add(tf.keras.layers.MaxPooling2D(pool_size= (2,2)))\n",
    "    \n",
    "    model.add((tf.keras.layers.Conv2D(30, (3,3), activation = 'relu')))\n",
    "    model.add((tf.keras.layers.Conv2D(30, (3,3), activation= 'relu')))\n",
    "    model.add(tf.keras.layers.MaxPooling2D(pool_size = (2,2)))\n",
    "    model.add(tf.keras.layers.Dropout(0.5))\n",
    "              \n",
    "    model.add(tf.keras.layers.Flatten())\n",
    "    model.add(tf.keras.layers.Dense(500, activation= 'relu'))\n",
    "    model.add(tf.keras.layers.Dropout(0.5))\n",
    "    model.add(tf.keras.layers.Dense(43, activation = 'softmax'))\n",
    "    model.compile(tf.keras.optimizers.Adam(learning_rate = 0.001), loss = tf.keras.losses.categorical_crossentropy, metrics = ['accuracy'])\n",
    "    return model\n",
    "        "
   ]
  },
  {
   "cell_type": "code",
   "execution_count": 19,
   "id": "934b6907",
   "metadata": {
    "scrolled": true
   },
   "outputs": [
    {
     "name": "stdout",
     "output_type": "stream",
     "text": [
      "WARNING:tensorflow:From c:\\users\\hardik chaudhary\\appdata\\local\\programs\\python\\python39\\lib\\site-packages\\keras\\src\\backend.py:873: The name tf.get_default_graph is deprecated. Please use tf.compat.v1.get_default_graph instead.\n",
      "\n",
      "WARNING:tensorflow:From c:\\users\\hardik chaudhary\\appdata\\local\\programs\\python\\python39\\lib\\site-packages\\keras\\src\\layers\\pooling\\max_pooling2d.py:161: The name tf.nn.max_pool is deprecated. Please use tf.nn.max_pool2d instead.\n",
      "\n",
      "Model: \"sequential\"\n",
      "_________________________________________________________________\n",
      " Layer (type)                Output Shape              Param #   \n",
      "=================================================================\n",
      " conv2d (Conv2D)             (None, 26, 26, 60)        1560      \n",
      "                                                                 \n",
      " conv2d_1 (Conv2D)           (None, 22, 22, 60)        90060     \n",
      "                                                                 \n",
      " max_pooling2d (MaxPooling2  (None, 11, 11, 60)        0         \n",
      " D)                                                              \n",
      "                                                                 \n",
      " conv2d_2 (Conv2D)           (None, 9, 9, 30)          16230     \n",
      "                                                                 \n",
      " conv2d_3 (Conv2D)           (None, 7, 7, 30)          8130      \n",
      "                                                                 \n",
      " max_pooling2d_1 (MaxPoolin  (None, 3, 3, 30)          0         \n",
      " g2D)                                                            \n",
      "                                                                 \n",
      " dropout (Dropout)           (None, 3, 3, 30)          0         \n",
      "                                                                 \n",
      " flatten (Flatten)           (None, 270)               0         \n",
      "                                                                 \n",
      " dense (Dense)               (None, 500)               135500    \n",
      "                                                                 \n",
      " dropout_1 (Dropout)         (None, 500)               0         \n",
      "                                                                 \n",
      " dense_1 (Dense)             (None, 43)                21543     \n",
      "                                                                 \n",
      "=================================================================\n",
      "Total params: 273023 (1.04 MB)\n",
      "Trainable params: 273023 (1.04 MB)\n",
      "Non-trainable params: 0 (0.00 Byte)\n",
      "_________________________________________________________________\n",
      "None\n"
     ]
    },
    {
     "name": "stderr",
     "output_type": "stream",
     "text": [
      "C:\\Users\\Hardik Chaudhary\\AppData\\Local\\Temp\\ipykernel_19152\\646529543.py:3: UserWarning: `Model.fit_generator` is deprecated and will be removed in a future version. Please use `Model.fit`, which supports generators.\n",
      "  history = mymodel.fit_generator(dataGen.flow(x_train, y_train, batch_size = 32), steps_per_epoch = len(x_train)//32, epochs = 10, validation_data = (x_train, y_train), shuffle = 1)\n"
     ]
    },
    {
     "name": "stdout",
     "output_type": "stream",
     "text": [
      "Epoch 1/10\n",
      "WARNING:tensorflow:From c:\\users\\hardik chaudhary\\appdata\\local\\programs\\python\\python39\\lib\\site-packages\\keras\\src\\utils\\tf_utils.py:492: The name tf.ragged.RaggedTensorValue is deprecated. Please use tf.compat.v1.ragged.RaggedTensorValue instead.\n",
      "\n",
      "WARNING:tensorflow:From c:\\users\\hardik chaudhary\\appdata\\local\\programs\\python\\python39\\lib\\site-packages\\keras\\src\\engine\\base_layer_utils.py:384: The name tf.executing_eagerly_outside_functions is deprecated. Please use tf.compat.v1.executing_eagerly_outside_functions instead.\n",
      "\n",
      "980/980 [==============================] - 82s 79ms/step - loss: 2.1387 - accuracy: 0.3889 - val_loss: 0.5625 - val_accuracy: 0.8466\n",
      "Epoch 2/10\n",
      "980/980 [==============================] - 77s 79ms/step - loss: 0.9687 - accuracy: 0.7026 - val_loss: 0.2489 - val_accuracy: 0.9258\n",
      "Epoch 3/10\n",
      "980/980 [==============================] - 81s 83ms/step - loss: 0.6755 - accuracy: 0.7924 - val_loss: 0.1335 - val_accuracy: 0.9626\n",
      "Epoch 4/10\n",
      "980/980 [==============================] - 81s 83ms/step - loss: 0.5361 - accuracy: 0.8350 - val_loss: 0.0938 - val_accuracy: 0.9730\n",
      "Epoch 5/10\n",
      "980/980 [==============================] - 85s 87ms/step - loss: 0.4434 - accuracy: 0.8638 - val_loss: 0.0825 - val_accuracy: 0.9754\n",
      "Epoch 6/10\n",
      "980/980 [==============================] - 82s 83ms/step - loss: 0.4019 - accuracy: 0.8775 - val_loss: 0.0698 - val_accuracy: 0.9779\n",
      "Epoch 7/10\n",
      "980/980 [==============================] - 86s 87ms/step - loss: 0.3567 - accuracy: 0.8919 - val_loss: 0.0658 - val_accuracy: 0.9769\n",
      "Epoch 8/10\n",
      "980/980 [==============================] - 87s 89ms/step - loss: 0.3351 - accuracy: 0.8974 - val_loss: 0.0573 - val_accuracy: 0.9829\n",
      "Epoch 9/10\n",
      "980/980 [==============================] - 84s 86ms/step - loss: 0.2995 - accuracy: 0.9088 - val_loss: 0.0500 - val_accuracy: 0.9847\n",
      "Epoch 10/10\n",
      "980/980 [==============================] - 85s 87ms/step - loss: 0.2907 - accuracy: 0.9103 - val_loss: 0.0591 - val_accuracy: 0.9837\n"
     ]
    }
   ],
   "source": [
    "mymodel = myModel()\n",
    "print(mymodel.summary())\n",
    "history = mymodel.fit_generator(dataGen.flow(x_train, y_train, batch_size = 32), steps_per_epoch = len(x_train)//32, epochs = 10, validation_data = (x_train, y_train), shuffle = 1)"
   ]
  },
  {
   "cell_type": "code",
   "execution_count": 20,
   "id": "e7414e4d",
   "metadata": {},
   "outputs": [
    {
     "data": {
      "text/plain": [
       "<matplotlib.legend.Legend at 0x2084d08a520>"
      ]
     },
     "execution_count": 20,
     "metadata": {},
     "output_type": "execute_result"
    },
    {
     "data": {
      "image/png": "[encoded data removed]",
      "text/plain": [
       "<Figure size 640x480 with 1 Axes>"
      ]
     },
     "metadata": {},
     "output_type": "display_data"
    },
    {
     "data": {
      "image/png": "[encoded data removed]",
      "text/plain": [
       "<Figure size 640x480 with 1 Axes>"
      ]
     },
     "metadata": {},
     "output_type": "display_data"
    }
   ],
   "source": [
    "plt.figure(0)\n",
    "plt.plot(history.history['accuracy'], label = 'training accuracy')\n",
    "plt.plot(history.history['val_accuracy'], label = 'val accuracy')\n",
    "plt.title('Accuracy')\n",
    "plt.xlabel('epochs')\n",
    "plt.ylabel('accuracy')\n",
    "plt.legend()\n",
    "\n",
    "plt.figure(1)\n",
    "plt.plot(history.history['loss'], label = 'training loss')\n",
    "plt.plot(history.history['val_loss'], label = 'val loss')\n",
    "plt.title('loss')\n",
    "plt.xlabel(\"epochs\")\n",
    "plt.ylabel('losses')\n",
    "plt.legend()"
   ]
  },
  {
   "cell_type": "code",
   "execution_count": 21,
   "id": "7699e3da",
   "metadata": {},
   "outputs": [],
   "source": [
    "from sklearn.metrics import accuracy_score \n",
    "import pandas as pd\n",
    "y_test = pd.read_csv(\"archive\\Test.csv\")"
   ]
  },
  {
   "cell_type": "code",
   "execution_count": 22,
   "id": "dcc8a96c",
   "metadata": {},
   "outputs": [],
   "source": [
    "labels = y_test[\"ClassId\"].values\n",
    "imgs = y_test[\"Path\"].values"
   ]
  },
  {
   "cell_type": "code",
   "execution_count": 28,
   "id": "9a1089ac",
   "metadata": {},
   "outputs": [],
   "source": [
    "test_data = []\n",
    "path1 = os.path.join('archive', 'Test')\n",
    "imgs = os.listdir(path)\n",
    "for img in imgs:\n",
    "    image = Image.open(path1 + '\\\\' + img)\n",
    "    image = image.resize((30,30))\n",
    "    test_data.append(np.array(image))\n",
    "    \n",
    "X_test = np.array(test_data)"
   ]
  },
  {
   "cell_type": "code",
   "execution_count": 29,
   "id": "c9dd51e5",
   "metadata": {},
   "outputs": [],
   "source": [
    "def grayscale(img):\n",
    "    img = cv2.cvtColor(img, cv2.COLOR_BGR2GRAY)\n",
    "    return img"
   ]
  },
  {
   "cell_type": "code",
   "execution_count": 30,
   "id": "e272449d",
   "metadata": {},
   "outputs": [],
   "source": [
    "X_test = np.array(list(map(grayscale, X_test)))\n",
    "X_test = X_test.reshape(X_test.shape[0], X_test.shape[1], X_test.shape[2], 1)"
   ]
  },
  {
   "cell_type": "code",
   "execution_count": 31,
   "id": "5090fdea",
   "metadata": {},
   "outputs": [
    {
     "name": "stdout",
     "output_type": "stream",
     "text": [
      "395/395 [==============================] - 6s 16ms/step\n"
     ]
    },
    {
     "data": {
      "text/plain": [
       "0.9258907363420428"
      ]
     },
     "execution_count": 31,
     "metadata": {},
     "output_type": "execute_result"
    }
   ],
   "source": [
    "pred = mymodel.predict(X_test)\n",
    "pred = np.argmax(pred, axis = 1)\n",
    "from sklearn.metrics import accuracy_score\n",
    "accuracy_score(labels, pred)"
   ]
  },
  {
   "cell_type": "code",
   "execution_count": 32,
   "id": "b2ec4c9b",
   "metadata": {},
   "outputs": [
    {
     "data": {
      "text/plain": [
       "array([16,  1, 38, ...,  6,  7, 10], dtype=int64)"
      ]
     },
     "execution_count": 32,
     "metadata": {},
     "output_type": "execute_result"
    }
   ],
   "source": [
    "pred"
   ]
  },
  {
   "cell_type": "code",
   "execution_count": 33,
   "id": "4e2a5369",
   "metadata": {
    "scrolled": true
   },
   "outputs": [
    {
     "name": "stderr",
     "output_type": "stream",
     "text": [
      "c:\\users\\hardik chaudhary\\appdata\\local\\programs\\python\\python39\\lib\\site-packages\\keras\\src\\engine\\training.py:3103: UserWarning: You are saving your model as an HDF5 file via `model.save()`. This file format is considered legacy. We recommend using instead the native Keras format, e.g. `model.save('my_model.keras')`.\n",
      "  saving_api.save_model(\n"
     ]
    }
   ],
   "source": [
    "mymodel.save('traffic_classifer.h5')"
   ]
  },
  {
   "cell_type": "code",
   "execution_count": null,
   "id": "69b95b34-7b75-4482-81f5-28e969cd61e1",
   "metadata": {},
   "outputs": [],
   "source": []
  },
  {
   "cell_type": "code",
   "execution_count": 54,
   "id": "05149ed6",
   "metadata": {},
   "outputs": [
    {
     "name": "stdout",
     "output_type": "stream",
     "text": [
      "1/1 [==============================] - 0s 90ms/step\n",
      "Speed limit (30km/h)\n"
     ]
    }
   ],
   "source": [
    "import tkinter as tk\n",
    "from tkinter import filedialog \n",
    "from tkinter import *\n",
    "from PIL import ImageTk, Image\n",
    "import numpy \n",
    "from keras.models import load_model\n",
    "model = load_model('traffic_classifer.h5')\n",
    " \n",
    "classes = { 1:'Speed limit (20km/h)',\n",
    "            2:'Speed limit (30km/h)', \n",
    "            3:'Speed limit (50km/h)', \n",
    "            4:'Speed limit (60km/h)', \n",
    "            5:'Speed limit (70km/h)', \n",
    "            6:'Speed limit (80km/h)', \n",
    "            7:'End of speed limit (80km/h)', \n",
    "            8:'Speed limit (100km/h)', \n",
    "            9:'Speed limit (120km/h)', \n",
    "            10:'No passing', \n",
    "            11:'No passing veh over 3.5 tons', \n",
    "            12:'Right-of-way at intersection', \n",
    "            13:'Priority road', \n",
    "            14:'Yield', \n",
    "            15:'Stop', \n",
    "            16:'No vehicles', \n",
    "            17:'Veh > 3.5 tons prohibited', \n",
    "            18:'No entry', \n",
    "            19:'General caution', \n",
    "            20:'Dangerous curve left', \n",
    "            21:'Dangerous curve right', \n",
    "            22:'Double curve', \n",
    "            23:'Bumpy road', \n",
    "            24:'Slippery road', \n",
    "            25:'Road narrows on the right', \n",
    "            26:'Road work', \n",
    "            27:'Traffic signals', \n",
    "            28:'Pedestrians', \n",
    "            29:'Children crossing', \n",
    "            30:'Bicycles crossing', \n",
    "            31:'Beware of ice/snow',\n",
    "            32:'Wild animals crossing', \n",
    "            33:'End speed + passing limits', \n",
    "            34:'Turn right ahead', \n",
    "            35:'Turn left ahead', \n",
    "            36:'Ahead only', \n",
    "            37:'Go straight or right', \n",
    "            38:'Go straight or left', \n",
    "            39:'Keep right', \n",
    "            40:'Keep left', \n",
    "            41:'Roundabout mandatory', \n",
    "            42:'End of no passing', \n",
    "            43:'End no passing veh > 3.5 tons' }\n",
    "\n",
    "top = tk.Tk()\n",
    "top.geometry('800x600')\n",
    "top.title('Traffic Sign Classification')\n",
    "top.configure(background = '#CDCDCD')\n",
    "\n",
    "label = Label(top, background ='#CDCDCD', font=('arial', 15 , 'bold'))\n",
    "sign_image = Label(top)\n",
    "\n",
    "def classify(file_path):\n",
    "    global label_packed \n",
    "    image = Image.open(file_path)\n",
    "    image = image.resize((30,30))\n",
    "    image = numpy.array(image)\n",
    "    image = cv2.cvtColor(image, cv2.COLOR_BGR2GRAY)\n",
    "    image = image.reshape(1, image.shape[0], image.shape[1], 1)\n",
    "    #print(image.shape)\n",
    "    #input_shape =image[0], image[1], 1\n",
    "    #print(image.shape)\n",
    "    pred = model.predict([image])\n",
    "    pred = np.argmax(pred)\n",
    "    sign = classes[pred+1]\n",
    "    print(sign)\n",
    "    label.config(foreground = '#011638', text = sign)\n",
    "    \n",
    "def show_classify_button(file_path):\n",
    "    classify_b = Button(top, text = \"Classify Image\", command = lambda : classify(file_path),padx=10,pady=5)\n",
    "    classify_b.configure(background = '#364156', foreground = 'white', font = ('arial', 10,'bold'))\n",
    "    classify_b.place(relx = 0.79 , rely = 0.46)\n",
    "\n",
    "def upload_image():\n",
    "    try:\n",
    "        file_path = filedialog.askopenfilename()\n",
    "        uploaded = Image.open(file_path)\n",
    "        uploaded.thumbnail(((top.winfo_width()/ 2.25), (top.winfo_height()/2.25)))\n",
    "        im = ImageTk.PhotoImage(uploaded)\n",
    "        \n",
    "        sign_image.configure(image = im)\n",
    "        sign_image.image = im\n",
    "        label.configure(text = '')\n",
    "        show_classify_button(file_path)\n",
    "    except:\n",
    "        pass\n",
    "    \n",
    "\n",
    "upload = Button(top, text = \"Upload an Image\", command = upload_image, padx = 10, pady = 5)\n",
    "upload.configure(background = '#364156', foreground = 'white', font = ('arial', 10, 'bold'))\n",
    "\n",
    "upload.pack(side = BOTTOM, pady = 50)\n",
    "sign_image.pack(side = BOTTOM, expand = True)\n",
    "label.pack(side = BOTTOM, expand = True)\n",
    "heading = Label(top, text = \"Know Your Traffic Sign\", pady = 20, font = ('arial', 20, 'bold'))\n",
    "heading.configure(background = '#CDCDCD', foreground = '#364156')\n",
    "heading.pack()\n",
    "top.mainloop()\n"
   ]
  }
 ],
 "metadata": {
  "kernelspec": {
   "display_name": "Python 3 (ipykernel)",
   "language": "python",
   "name": "python3"
  },
  "language_info": {
   "codemirror_mode": {
    "name": "ipython",
    "version": 3
   },
   "file_extension": ".py",
   "mimetype": "text/x-python",
   "name": "python",
   "nbconvert_exporter": "python",
   "pygments_lexer": "ipython3",
   "version": "3.9.0"
  }
 },
 "nbformat": 4,
 "nbformat_minor": 5
}
